{
 "cells": [
  {
   "cell_type": "markdown",
   "metadata": {
    "editable": false
   },
   "source": [
    "<!-- dom:TITLE: Modeling plant population growth -->\n",
    "# Modeling plant population growth\n",
    "<!-- dom:AUTHOR: Simen Tennøe at Centre for Integrative Neuroplasticity (CINPLA) & Department of Informatics, University of Oslo -->\n",
    "<!-- Author: -->  \n",
    "**Simen Tennøe**, Centre for Integrative Neuroplasticity (CINPLA) and Department of Informatics, University of Oslo  \n",
    "<!-- dom:AUTHOR: Andreas V. Solbrå at Centre for Integrative Neuroplasticity (CINPLA) & Department of Physics, University of Oslo -->\n",
    "<!-- Author: --> **Andreas V. Solbrå**, Centre for Integrative Neuroplasticity (CINPLA) and Department of Physics, University of Oslo  \n",
    "<!-- dom:AUTHOR: Milad H. Mobarhan at Centre for Integrative Neuroplasticity (CINPLA) & Department of Biosciences, University of Oslo -->\n",
    "<!-- Author: --> **Milad H. Mobarhan**, Centre for Integrative Neuroplasticity (CINPLA) and Department of Biosciences, University of Oslo  \n",
    "<!-- dom:AUTHOR: Svenn-Arne Dragly at Centre for Integrative Neuroplasticity (CINPLA) & Department of Physics, University of Oslo -->\n",
    "<!-- Author: --> **Svenn-Arne Dragly**, Centre for Integrative Neuroplasticity (CINPLA) and Department of Physics, University of Oslo\n",
    "\n",
    "\n",
    "Date: **Aug 23, 2017**\n",
    "\n",
    "<!-- Externaldocuments: ../appendix/main_appendix, ../bacterial_growth_analysis/main_bacterial_growth_analysis, ../bacterial_growth_modeling/main_bacterial_growth_modeling, ../dna_seq_analysis/main_dna_seq_analysis, ../genetic_drift/main_genetic_drift, ../inheritance/main_inheritance, ../logistic_growth/main_logistic_growth, ../mutations/main_mutations, ../natural_selection/main_natural_selection, ../preface/main_preface, ../scientific_calculator/main_scientific_calculator, ../spatial_models/main_spatial_models -->\n",
    "\n",
    "\n",
    "\n",
    "<!-- Common Mako variables and functions -->\n",
    "\n",
    "\n",
    "\n",
    "\n",
    "\n",
    "\n",
    "\n",
    "\n",
    "\n",
    "\n",
    "\n",
    "\n",
    "\n",
    "\n",
    "\n",
    "\n",
    "\n",
    "\n",
    "\n",
    "\n",
    "\n",
    "\n",
    "\n",
    "\n",
    "\n",
    "\n",
    "\n",
    "\n",
    "\n",
    "\n",
    "\n",
    "\n",
    "\n",
    "\n",
    "\n",
    "\n",
    "\n",
    "\n",
    "\n",
    "<div id=\"chp:plant_growth\"></div>"
   ]
  },
  {
   "cell_type": "markdown",
   "metadata": {
    "editable": false
   },
   "source": [
    "<div id=\"chp:plant\"></div>\n",
    "\n",
    "<!-- dom:FIGURE: [figures-plant_growth/pea_plant.png, width=800 frac=0.7] Peas are an annual plant [[1]](#pea_plant). <div id=\"fig:plant:pea_plant\"></div> -->\n",
    "<!-- begin figure -->\n",
    "<div id=\"fig:plant:pea_plant\"></div>\n",
    "\n",
    "<img src=\"figures-plant_growth/pea_plant.png\" width=800>\n",
    "<p style='font-size: 0.9em'><i>Figure 1: Peas are an annual plant [[1]](#pea_plant).</i></p>\n",
    "\n",
    "<!-- end figure -->\n",
    "\n",
    "\n",
    "Farming is important for sustaining and enhancing human life.\n",
    "At the same time, farming and exploitation of forests have a strong impact on\n",
    "the environment.\n",
    "Many environmental projects therefore aim to preserve the natural resources\n",
    "needed by future generations, while keeping a level of production that meets the\n",
    "needs of the present.\n",
    "Mathematical models are often used to calculate this balance.\n",
    "These models give us the ability to make predictions about the future,\n",
    "based on the assumptions and parameters in the model.\n",
    "The parameters describe various environmental factors,\n",
    "physiological factors, or both, and depend on the level of detail in the model.\n",
    "\n",
    "In this chapter, we use the same techniques as in the previous chapter to\n",
    "model the growth of a plant population.\n",
    "In particular, we study the growth of the pea plant *pisum sativum*,\n",
    "which is an *annual plant*, meaning it completes its life cycle in one year and\n",
    "then dies.\n",
    "Pea plants start to grow from a seed once the temperature,\n",
    "water, and light conditions are right.\n",
    "They grow during spring and summer, and once autumn arrives,\n",
    "spread their seeds before they die.\n",
    "During winter some of the seeds may die due to environmental factors such as\n",
    "weather or being eaten by animals.\n",
    "Among those who survive the winter, a certain fraction *germinates*, that is, grows into a new plant. These give rise to a new generation of plants and the cycle starts\n",
    "over.\n",
    "\n",
    "In order to survive as a species, it is critical that a sufficiently large group\n",
    "of the seeds survive the winter and germinate from generation to generation.\n",
    "Note that years and generations are used interchangeably in this chapter as each\n",
    "generation lasts one year.\n",
    "\n",
    "We will describe the dynamics of such an annual plant using a computational\n",
    "model.\n",
    "We start out with a simple model and extend this to explore the effects of\n",
    "biological and environmental factors.\n",
    "\n",
    "\n",
    "\n",
    "\n",
    "<hr/>\n",
    "**Learning outcomes.**\n",
    "\n",
    "<!--  -->\n",
    "After working with this chapter, you know how to create and implement the\n",
    "following models and examine them analytically:\n",
    "\n",
    "* the growth of an annual plant, and\n",
    "\n",
    "* the growth of an biannual plant.\n",
    "\n",
    "The programming concept we introduce in this chapter is subplots.\n",
    "<hr/>\n",
    "\n",
    "\n",
    "\n",
    "\n",
    "# 1 One-year model for plant population growth\n",
    "\n",
    "We want to formulate a model for how the pea population grows over time based on\n",
    "the life cycle of these plants.\n",
    "In particular, we consider two different cases.\n",
    "First, we assume that seeds only survive one winter,\n",
    "but later in this chapter we study the case where seeds can survive two\n",
    "winters.\n",
    "We call the first case the *one-year model* and this model has the following assumptions:\n",
    "\n",
    "\n",
    "\n",
    "\n",
    "<hr/>\n",
    "**Model assumptions for the one-year model.**\n",
    "\n",
    "We assume that:\n",
    "* all plants are identical,\n",
    "\n",
    "* seeds can only survive one winter,\n",
    "\n",
    "* the fraction of seeds that survive a winter is constant, and\n",
    "\n",
    "* the fraction of seeds that germinate is constant.\n",
    "<hr/>\n",
    "\n",
    "\n",
    "\n",
    "\n",
    "<!-- dom:FIGURE: [figures-plant_growth/seeds_surviving.png, frac=1] Overview of the steps in the model for annual growth of pea plants shown from year 0 to year 1. At year 0, the number of pea plants is $P_0$. Each of these plants produce $S$ seeds. During the winter only a fraction $w$ of the produced seeds survive, while the rest die due to environmental factors. Among those how survive the winter, a certain fraction $g$ germinate in the following spring to give rise to a new population of plants $P_1$. Note that we can use the fraction $w$ of seeds that survive a winter to find the fraction of seeds that die during the winter as $1-w$. The same is true for the germination rate. <div id=\"fig:plant:seeds_surviving\"></div> -->\n",
    "<!-- begin figure -->\n",
    "<div id=\"fig:plant:seeds_surviving\"></div>\n",
    "\n",
    "<img src=\"figures-plant_growth/seeds_surviving.png\" >\n",
    "<p style='font-size: 0.9em'><i>Figure 2: Overview of the steps in the model for annual growth of pea plants shown from year 0 to year 1. At year 0, the number of pea plants is $P_0$. Each of these plants produce $S$ seeds. During the winter only a fraction $w$ of the produced seeds survive, while the rest die due to environmental factors. Among those how survive the winter, a certain fraction $g$ germinate in the following spring to give rise to a new population of plants $P_1$. Note that we can use the fraction $w$ of seeds that survive a winter to find the fraction of seeds that die during the winter as $1-w$. The same is true for the germination rate.</i></p>\n",
    "\n",
    "<!-- end figure -->\n",
    "\n",
    "\n",
    "[Figure 2](#fig:plant:seeds_surviving) shows the steps involved in calculating\n",
    "the production of plants from year 0 to year 1.\n",
    "The steps are equivalent for the following years.\n",
    "We introduce the terms in this figure in the following sections and have\n",
    "listed them here for reference:\n",
    "\n",
    "<table border=\"1\">\n",
    "<thead>\n",
    "<tr><th align=\"center\">Symbol</th> <th align=\"center\">                         Meaning                         </th> </tr>\n",
    "</thead>\n",
    "<tbody>\n",
    "<tr><td align=\"left\">   $n$       </td> <td align=\"left\">   Generation (year)                                            </td> </tr>\n",
    "<tr><td align=\"left\">   $N$       </td> <td align=\"left\">   Number of generations (years)                                </td> </tr>\n",
    "<tr><td align=\"left\">   $P$       </td> <td align=\"left\">   Number of pea plants                                         </td> </tr>\n",
    "<tr><td align=\"left\">   $P_n$     </td> <td align=\"left\">   Number of pea plants in year $n$                             </td> </tr>\n",
    "<tr><td align=\"left\">   $P_0$     </td> <td align=\"left\">   Number of pea plants in year 0                               </td> </tr>\n",
    "<tr><td align=\"left\">   $P_1$     </td> <td align=\"left\">   Number of pea plants in year 1                               </td> </tr>\n",
    "<tr><td align=\"left\">   $w$       </td> <td align=\"left\">   Fraction of seeds that survive the winter (survival rate)    </td> </tr>\n",
    "<tr><td align=\"left\">   $g$       </td> <td align=\"left\">   Fraction of seeds that germinate (germination rate)          </td> </tr>\n",
    "<tr><td align=\"left\">   $S$       </td> <td align=\"left\">   Number of seeds each pea plant produces                      </td> </tr>\n",
    "</tbody>\n",
    "</table>\n",
    "Use this table and figure as a reference while reading to keep track of the\n",
    "different terms.\n",
    "\n",
    "\n",
    "\n",
    "## 1.1 Implementing the first year\n",
    "\n",
    "Our goal is to create a model for the number of plants $P_n$ in\n",
    "year $n$.\n",
    "To begin with, we calculate the number of plants after one year,\n",
    "$P_1$.\n",
    "Then we generalize this calculation to calculate the number of plants in year\n",
    "$n$ and step through each year by adding a `for` loop.\n",
    "This allows us to find the number of plants $P_n$ in year $n$.\n",
    "\n",
    "We begin by importing everything in `pylab` and set up an array `P` that will\n",
    "contain the number of plants for each year.\n",
    "Here, we want to calculate the population over $N = 10$ years\n",
    "including the first year (which is year 0):\n",
    "<!--  -->"
   ]
  },
  {
   "cell_type": "code",
   "execution_count": null,
   "metadata": {
    "collapsed": true
   },
   "outputs": [],
   "source": [
    "from pylab import *\n",
    "\n",
    "N = 10\n",
    "P = zeros(N)"
   ]
  },
  {
   "cell_type": "markdown",
   "metadata": {
    "editable": false
   },
   "source": [
    "<!--  -->\n",
    "Next, we set up an array `t` that contains the years.\n",
    "For this, we use the `arange()` function.\n",
    "This produces an array of numbers from zero up to, but not including,\n",
    "the number of years:"
   ]
  },
  {
   "cell_type": "code",
   "execution_count": null,
   "metadata": {
    "collapsed": true
   },
   "outputs": [],
   "source": [
    "t = arange(N)"
   ]
  },
  {
   "cell_type": "markdown",
   "metadata": {
    "editable": false
   },
   "source": [
    "<!--  -->\n",
    "In this section, we use some reasonable numbers for the initial number of\n",
    "plants, survival rate, and so on, but in in section [1.6 Estimating model parameters](#sec:plant:estimation),\n",
    "we go into detail on how these parameters can be calculated from experiments.\n",
    "We assume that the number of pea plants in the first year is $P_0 =\n",
    "20$:\n",
    "<!--  -->"
   ]
  },
  {
   "cell_type": "code",
   "execution_count": null,
   "metadata": {
    "collapsed": true
   },
   "outputs": [],
   "source": [
    "P[0] = 20"
   ]
  },
  {
   "cell_type": "markdown",
   "metadata": {
    "editable": false
   },
   "source": [
    "<!--  -->\n",
    "We multiply this by the number of seeds produced by each plant, $S = 50$,\n",
    "to find the total number of seeds produced:"
   ]
  },
  {
   "cell_type": "markdown",
   "metadata": {
    "editable": false
   },
   "source": [
    "<!-- Equation labels as ordinary links -->\n",
    "<div id=\"_auto1\"></div>\n",
    "\n",
    "$$\n",
    "\\begin{equation}\n",
    "\\text{produced seeds} = S P_0.\n",
    "\\label{_auto1} \\tag{1}\n",
    "\\end{equation}\n",
    "$$"
   ]
  },
  {
   "cell_type": "markdown",
   "metadata": {
    "editable": false
   },
   "source": [
    "<!--  -->\n",
    "We express this in code as:\n",
    "<!--  -->"
   ]
  },
  {
   "cell_type": "code",
   "execution_count": null,
   "metadata": {},
   "outputs": [],
   "source": [
    "S = 50\n",
    "produced_seeds = S * P[0]\n",
    "print(produced_seeds)"
   ]
  },
  {
   "cell_type": "markdown",
   "metadata": {
    "editable": false
   },
   "source": [
    "<!--  -->\n",
    "In this chapter, we combine more descriptive variable names,\n",
    "such as `produced_seeds`, with names that lie close to the mathematics,\n",
    "such as `S`, to make it easier to understand each line of code.\n",
    "\n",
    "Only a fraction $w = 0.25$ of these seeds survive the winter,\n",
    "while the rest die due to disease, weather, or being eaten by animals.\n",
    "Thus, the number of seeds after one winter is:\n",
    "<!--  -->"
   ]
  },
  {
   "cell_type": "markdown",
   "metadata": {
    "editable": false
   },
   "source": [
    "<!-- Equation labels as ordinary links -->\n",
    "<div id=\"_auto2\"></div>\n",
    "\n",
    "$$\n",
    "\\begin{equation}\n",
    "\\text{surviving seeds} = w \\times \\text{produced seeds}.\n",
    "\\label{_auto2} \\tag{2}\n",
    "\\end{equation}\n",
    "$$"
   ]
  },
  {
   "cell_type": "markdown",
   "metadata": {
    "editable": false
   },
   "source": [
    "<!--  -->\n",
    "We express this in code as:\n",
    "<!--  -->"
   ]
  },
  {
   "cell_type": "code",
   "execution_count": null,
   "metadata": {},
   "outputs": [],
   "source": [
    "w = 0.25\n",
    "surviving_seeds = w * produced_seeds\n",
    "print(surviving_seeds)"
   ]
  },
  {
   "cell_type": "markdown",
   "metadata": {
    "editable": false
   },
   "source": [
    "<hr/>\n",
    "**Reminder: Fractions.**\n",
    "\n",
    "\n",
    "A fraction represent an amount or proportion of something and can be represented\n",
    "as a decimal number or a percent.\n",
    "For example if 2 of 10 seeds survive a winter,\n",
    "the fraction of seeds that survive (survival rate) is $\\frac{2}{10} = 0.2$ or\n",
    "$20 \\%$.\n",
    "The fraction of seeds that die during the winter is $1 - 0.2 = 0.8$ or $80 \\%$.\n",
    "\n",
    "<!-- dom:FIGURE: [figures-plant_growth/fraction.png, frac=0.6] -->\n",
    "<!-- begin figure -->\n",
    "\n",
    "<img src=\"figures-plant_growth/fraction.png\" >\n",
    "<p style='font-size: 0.9em'><i>Figure 3: </i></p>\n",
    "\n",
    "<!-- end figure -->\n",
    "<hr/>\n",
    "\n",
    "\n",
    "\n",
    "<!--  -->\n",
    "After the winter, the surviving seeds potentially germinate and grow into mature\n",
    "plants. However, only a fraction $g = 0.16$ of the surviving seeds\n",
    "germinate, while the rest stay dormant.\n",
    "Some might not have the right conditions to sprout,\n",
    "being buried to deep or lacking water.\n",
    "\n",
    "The seeds that germinate grow into mature plants,\n",
    "giving rise to a new generation of pea plants.\n",
    "The number of plants next year is:\n",
    "<!--  -->"
   ]
  },
  {
   "cell_type": "markdown",
   "metadata": {
    "editable": false
   },
   "source": [
    "<!-- Equation labels as ordinary links -->\n",
    "<div id=\"_auto3\"></div>\n",
    "\n",
    "$$\n",
    "\\begin{equation}\n",
    "P_1 = g \\times \\text{surviving seeds}.\n",
    "\\label{_auto3} \\tag{3}\n",
    "\\end{equation}\n",
    "$$"
   ]
  },
  {
   "cell_type": "markdown",
   "metadata": {
    "editable": false
   },
   "source": [
    "<!--  -->\n",
    "In code, we find the actual number of plants:\n",
    "<!--  -->"
   ]
  },
  {
   "cell_type": "code",
   "execution_count": null,
   "metadata": {},
   "outputs": [],
   "source": [
    "g = 0.16\n",
    "P[1] = g * surviving_seeds\n",
    "print(\"number of plants after one year:\", P[1])"
   ]
  },
  {
   "cell_type": "markdown",
   "metadata": {
    "editable": false
   },
   "source": [
    "<!--  -->\n",
    "These plants survive until fall, where they each produce a number of seeds\n",
    "before they die and the cycle starts over.\n",
    "\n",
    "The complete program containing all the steps is:"
   ]
  },
  {
   "cell_type": "code",
   "execution_count": null,
   "metadata": {},
   "outputs": [],
   "source": [
    "from pylab import *\n",
    "\n",
    "N = 10    # Number of generations\n",
    "S = 50    # seed produced per plant\n",
    "w = 0.25  # survival rate\n",
    "g = 0.16  # germination rate\n",
    "\n",
    "P = zeros(N)\n",
    "t = arange(N)\n",
    "\n",
    "P[0] = 20\n",
    "produced_seeds = S * P[0]\n",
    "surviving_seeds = w * produced_seeds\n",
    "\n",
    "P[1] = g * surviving_seeds\n",
    "\n",
    "print(P)"
   ]
  },
  {
   "cell_type": "markdown",
   "metadata": {
    "editable": false
   },
   "source": [
    "<!--  -->\n",
    "As you can see from the output above, we have the number plants for the first\n",
    "two years.\n",
    "To calculate the population size for the remaining years we need to repeat the\n",
    "steps above, first by using $P_1$ to calculate $P_2$,\n",
    "then use $P_2$ to calculate $P_3$, and so on.\n",
    "\n",
    "## 1.2 Implementing the following years\n",
    "\n",
    "It is cumbersome to manually perform the above calculation year by year.\n",
    "We therefore use a `for` loop to calculate the number of plants in the following\n",
    "years.\n",
    "For each generation, we calculate the number of pea plants by:\n",
    "\n",
    "* multiplying the number of plants from last year, $P_{n-1}$, by the number of seeds per plant,"
   ]
  },
  {
   "cell_type": "markdown",
   "metadata": {
    "editable": false
   },
   "source": [
    "<!-- Equation labels as ordinary links -->\n",
    "<div id=\"_auto4\"></div>\n",
    "\n",
    "$$\n",
    "\\begin{equation}\n",
    "    \\text{produced seeds} = S P_{n-1},\n",
    "\\label{_auto4} \\tag{4}\n",
    "\\end{equation}\n",
    "$$"
   ]
  },
  {
   "cell_type": "markdown",
   "metadata": {
    "editable": false
   },
   "source": [
    "* multiplying the number of produced seeds by the fraction of seeds that survive the winter,"
   ]
  },
  {
   "cell_type": "markdown",
   "metadata": {
    "editable": false
   },
   "source": [
    "<!-- Equation labels as ordinary links -->\n",
    "<div id=\"_auto5\"></div>\n",
    "\n",
    "$$\n",
    "\\begin{equation}\n",
    "    \\text{surviving seeds} = w \\times \\text{produced seeds},\n",
    "\\label{_auto5} \\tag{5}\n",
    "\\end{equation}\n",
    "$$"
   ]
  },
  {
   "cell_type": "markdown",
   "metadata": {
    "editable": false
   },
   "source": [
    "* and multiplying the number of surviving seeds by the fraction of seeds that germinate,"
   ]
  },
  {
   "cell_type": "markdown",
   "metadata": {
    "editable": false
   },
   "source": [
    "<!-- Equation labels as ordinary links -->\n",
    "<div id=\"_auto6\"></div>\n",
    "\n",
    "$$\n",
    "\\begin{equation}\n",
    "P_n = g \\times \\text{surviving seeds}.\n",
    "\\label{_auto6} \\tag{6}\n",
    "\\end{equation}\n",
    "$$"
   ]
  },
  {
   "cell_type": "markdown",
   "metadata": {
    "editable": false
   },
   "source": [
    "We combine all these steps in a loop over year 1 to $N$ using `range(1, N)`\n",
    "because we already know the population size in the first generation,\n",
    "$P_0$.\n",
    "In the end, we plot and print the results:"
   ]
  },
  {
   "cell_type": "code",
   "execution_count": null,
   "metadata": {},
   "outputs": [],
   "source": [
    "from pylab import *\n",
    "\n",
    "N = 10    # Number of generations\n",
    "S = 50    # seed produced per plant\n",
    "w = 0.25  # survival rate\n",
    "g = 0.16  # germination rate\n",
    "\n",
    "P = zeros(N)\n",
    "P[0] = 20\n",
    "\n",
    "for n in range(1, N):\n",
    "    produced_seeds = S * P[n-1]\n",
    "    surviving_seeds = w * produced_seeds\n",
    "    P[n] = g * surviving_seeds\n",
    "\n",
    "plot(t, P, \"-o\")\n",
    "xlabel(\"Generations, t\")\n",
    "ylabel(\"Number of pea plants, P\")\n",
    "title(\"Simulated plant population\")\n",
    "show()\n",
    "\n",
    "print(P)"
   ]
  },
  {
   "cell_type": "markdown",
   "metadata": {
    "editable": false
   },
   "source": [
    "<div id=\"fig:plant:annual_plant_growth_simple\"></div> *Figure: Pea plant population growth over multiple years.*\n",
    "\n",
    "As you see from the figure above, the model predicts an\n",
    "increasing growth, similar to the exponential growth phase in the bacterial\n",
    "population growth.\n",
    "When we combine the terms in this model into one equation it is easier to see\n",
    "why we get this behavior.\n",
    "\n",
    "\n",
    "\n",
    "\n",
    "<hr/>\n",
    "**Summary: The one-year model.**\n",
    "\n",
    "In the one-year model, $g$ is the germination rate, $w$ is the survival rate,\n",
    "and $S$ is the number of seeds per plant.\n",
    "\n",
    "For each generation, we calculate the number of pea plants by:\n",
    "* multiplying the number of plants from last year, $P_{n-1}$, by the number of seeds per plant,\n",
    "<!--  -->"
   ]
  },
  {
   "cell_type": "markdown",
   "metadata": {
    "editable": false
   },
   "source": [
    "<!-- Equation labels as ordinary links -->\n",
    "<div id=\"_auto7\"></div>\n",
    "\n",
    "$$\n",
    "\\begin{equation}\n",
    "\\text{produced seeds} = S P_{n-1},\n",
    "\\label{_auto7} \\tag{7}\n",
    "\\end{equation}\n",
    "$$"
   ]
  },
  {
   "cell_type": "markdown",
   "metadata": {
    "editable": false
   },
   "source": [
    "<!--  -->\n",
    "* multiplying the number of produced seeds by the fraction of seeds that survive the winter,\n",
    "<!--  -->"
   ]
  },
  {
   "cell_type": "markdown",
   "metadata": {
    "editable": false
   },
   "source": [
    "<!-- Equation labels as ordinary links -->\n",
    "<div id=\"_auto8\"></div>\n",
    "\n",
    "$$\n",
    "\\begin{equation}\n",
    "\\text{surviving seeds} = w \\times \\text{produced seeds},\n",
    "\\label{_auto8} \\tag{8}\n",
    "\\end{equation}\n",
    "$$"
   ]
  },
  {
   "cell_type": "markdown",
   "metadata": {
    "editable": false
   },
   "source": [
    "<!--  -->\n",
    "* and multiplying the number of surviving seeds by the fraction of seeds that germinate,\n",
    "<!--  -->"
   ]
  },
  {
   "cell_type": "markdown",
   "metadata": {
    "editable": false
   },
   "source": [
    "<!-- Equation labels as ordinary links -->\n",
    "<div id=\"_auto9\"></div>\n",
    "\n",
    "$$\n",
    "\\begin{equation}\n",
    "P_n = g \\times \\text{surviving seeds}.\n",
    "\\label{_auto9} \\tag{9}\n",
    "\\end{equation}\n",
    "$$"
   ]
  },
  {
   "cell_type": "markdown",
   "metadata": {
    "editable": false
   },
   "source": [
    "The model parameters we use are:\n",
    "<!--  -->"
   ]
  },
  {
   "cell_type": "markdown",
   "metadata": {
    "editable": false
   },
   "source": [
    "$$\n",
    "\\begin{align*}\n",
    "    P_0 &= 20,\\\\ \n",
    "    g &= 0.16,\\\\ \n",
    "    w &= 0.25,\\\\ \n",
    "    S &= 50.\n",
    "\\end{align*}\n",
    "$$"
   ]
  },
  {
   "cell_type": "markdown",
   "metadata": {
    "editable": false
   },
   "source": [
    "<hr/>\n",
    "\n",
    "\n",
    "\n",
    "\n",
    "\n",
    "## 1.3 Expressing the model as a difference equation\n",
    "\n",
    "\n",
    "\n",
    "In this chapter, we have more terms than in the simple exponential bacterial\n",
    "population growth model and therefore use longer variable names in the code to\n",
    "keep track of the intermediate steps.\n",
    "However, it is sometimes useful to combine all these steps together in a single\n",
    "equation to get a better overview.\n",
    "To find the number of plants $P_n$ in a single equation,\n",
    "we could multiply the number of seeds produced per plant $S$,\n",
    "the winter survival rate $w$, and the germination rate $g$ with the number of\n",
    "plants $P_{n-1}$ from last year:\n",
    "<!--  -->"
   ]
  },
  {
   "cell_type": "markdown",
   "metadata": {
    "editable": false
   },
   "source": [
    "<!-- Equation labels as ordinary links -->\n",
    "<div id=\"eq:plant_growth:simple\"></div>\n",
    "\n",
    "$$\n",
    "\\begin{equation}\n",
    "\\label{eq:plant_growth:simple} \\tag{10}\n",
    "    P_n = gwSP_{n-1}.\n",
    "\\end{equation}\n",
    "$$"
   ]
  },
  {
   "cell_type": "markdown",
   "metadata": {
    "editable": false
   },
   "source": [
    "<!--  -->\n",
    "This puts the solution in a form that shows that we are working with a\n",
    "difference equation, as in the previous chapters on bacterial modeling.\n",
    "\n",
    "In programming, you sometimes have to choose between doing multiple calculations\n",
    "on a single line, or step by step.\n",
    "It is a balance between including all details and keeping the code short.\n",
    "In the end, the goal is to make the code easy to read.\n",
    "Having too many lines of code with long variable names makes it hard to get an\n",
    "overview, while having everything on one line makes it complicated.\n",
    "\n",
    "In this chapter, we have chosen a mix of short variable names for the most\n",
    "important things, and long variable names for the intermediate steps.\n",
    "Keep this in mind while reading the rest of the chapter and think about\n",
    "whether you prefer shorter names and more calculations on one line,\n",
    "or if you prefer longer names and more intermediate steps.\n",
    "\n",
    "Implementing Equation ([eq:plant_growth:simple](#eq:plant_growth:simple)) gives us the same result as we get by writing it in\n",
    "multiple steps:\n",
    "<!--  -->"
   ]
  },
  {
   "cell_type": "code",
   "execution_count": null,
   "metadata": {},
   "outputs": [],
   "source": [
    "for n in range(1, N):\n",
    "    P[n] = g*w*S*P[n-1]\n",
    "\n",
    "print(P)"
   ]
  },
  {
   "cell_type": "markdown",
   "metadata": {
    "editable": false
   },
   "source": [
    "<!--  -->\n",
    "Looking at Equation ([eq:plant_growth:simple](#eq:plant_growth:simple)) it is easier to understand why we get the same\n",
    "exponential growth as in the exponential bacterial population growth model.\n",
    "We multiply a number ($gwS$) with the previous number of\n",
    "plants ($P_{n-1}$) to get the current number of plants.\n",
    "With current model parameters this number is\n",
    "<!--  -->"
   ]
  },
  {
   "cell_type": "markdown",
   "metadata": {
    "editable": false
   },
   "source": [
    "<!-- Equation labels as ordinary links -->\n",
    "<div id=\"_auto10\"></div>\n",
    "\n",
    "$$\n",
    "\\begin{equation}\n",
    "    gwS = 0.16 \\times 0.25 \\times 50 = 2.\n",
    "\\label{_auto10} \\tag{11}\n",
    "\\end{equation}\n",
    "$$"
   ]
  },
  {
   "cell_type": "markdown",
   "metadata": {
    "editable": false
   },
   "source": [
    "<!--  -->\n",
    "This product is multiplied with the current population size to get the\n",
    "corresponding size for the next generation.\n",
    "<!--  -->"
   ]
  },
  {
   "cell_type": "markdown",
   "metadata": {
    "editable": false
   },
   "source": [
    "<!-- Equation labels as ordinary links -->\n",
    "<div id=\"_auto11\"></div>\n",
    "\n",
    "$$\n",
    "\\begin{equation}\n",
    "    P_n = 2P_{n-1}.\n",
    "\\label{_auto11} \\tag{12}\n",
    "\\end{equation}\n",
    "$$"
   ]
  },
  {
   "cell_type": "markdown",
   "metadata": {
    "editable": false
   },
   "source": [
    "<!--  -->\n",
    "This is the same equation as the equation for the exponential bacterial\n",
    "population growth model, $E_n = 2E_{n-1}$.\n",
    "This means the plant population doubles each generation,\n",
    "as seen from the model results.\n",
    "Note that the two models are equal only with the current set of parameters.\n",
    "\n",
    "## 1.4 Examining low survival rate\n",
    "\n",
    "Let us examine what happens if the winters are much colder and only 8% of\n",
    "the seeds survive each winter, instead of the 25% which originally survived.\n",
    "In order to do that, we need to update the value of `w` and recalculate the\n",
    "population growth:"
   ]
  },
  {
   "cell_type": "code",
   "execution_count": null,
   "metadata": {},
   "outputs": [],
   "source": [
    "w = 0.08  # fraction of the seeds that survive the winter                 # New\n",
    "\n",
    "for n in range(1, N):\n",
    "    produced_seeds = S * P[n-1]\n",
    "    surviving_seeds = w * produced_seeds\n",
    "    P[n] = g * surviving_seeds\n",
    "\n",
    "plot(t, P, \"-o\")\n",
    "xlabel(\"Generations, t\")\n",
    "ylabel(\"Number of pea plants, P\")\n",
    "title(\"Plant population, low survival rate\")\n",
    "show()"
   ]
  },
  {
   "cell_type": "markdown",
   "metadata": {
    "editable": false
   },
   "source": [
    "<div id=\"fig:plant:annual_plant_growth_simple_winter\"></div> *Figure: Pea plant population growth with lower survival rate.*\n",
    "\n",
    "\n",
    "The predicted plant population is very different from the\n",
    "previous case.\n",
    "The current survival rate is so low that the number of plants decreases with\n",
    "time.\n",
    "More seeds die through the winter and there are fewer seeds to germinate.\n",
    "The population is no longer able to sustain itself and we observe an exponential\n",
    "decay in the number of plants.\n",
    "\n",
    "The decrease could also have been predicted from the product\n",
    "<!--  -->"
   ]
  },
  {
   "cell_type": "markdown",
   "metadata": {
    "editable": false
   },
   "source": [
    "<!-- Equation labels as ordinary links -->\n",
    "<div id=\"_auto12\"></div>\n",
    "\n",
    "$$\n",
    "\\begin{equation}\n",
    "    gwS = 0.16 \\times 0.08 \\times 50 = 0.64.\n",
    "\\label{_auto12} \\tag{13}\n",
    "\\end{equation}\n",
    "$$"
   ]
  },
  {
   "cell_type": "markdown",
   "metadata": {
    "editable": false
   },
   "source": [
    "<!--  -->\n",
    "This means that in each generation the size of the population is $64\\%$ of the\n",
    "previous generation.\n",
    "The population therefore decrease and die of within the span of\n",
    "10 years.\n",
    "\n",
    "This result highlights a problem with our model,\n",
    "namely that we end up with non-integer number of plants:\n",
    "<!--  -->"
   ]
  },
  {
   "cell_type": "code",
   "execution_count": null,
   "metadata": {},
   "outputs": [],
   "source": [
    "print(P)"
   ]
  },
  {
   "cell_type": "markdown",
   "metadata": {
    "editable": false
   },
   "source": [
    "<!--  -->\n",
    "This does not make any sense, because we cannot have a fraction of a plant.\n",
    "One solution to this problem is to convert all the numbers to integers using the\n",
    "`int()` function.\n",
    "However, we simply ignore this problem in this chapter to keep the code as\n",
    "simple as possible.\n",
    "\n",
    "## 1.5 Examining different survival and germination rates\n",
    "\n",
    "Depending on our parameters, we either got exponential growth or exponential decay.\n",
    "Let us visualize how the growth depends on the parameters $g$ and $w$.\n",
    "We only describe how this is done, because the code to visualize this is a bit to\n",
    "complicated to explain at this point.\n",
    "\n",
    "We choose different values between 0 and 1 for both the germination rate and the\n",
    "survival rate.\n",
    "These values are the $x$- and $y$-axes in our plot.\n",
    "We then simulate the plant growth for any one combination of germination rate\n",
    "and survival rate and see if the population size increases or decreases.\n",
    "The plot is colored depending on whether we have growth or decay.\n",
    "If the population increases, the color is green.\n",
    "If the population decreases, the color is white.\n",
    "The result is shown in [Figure 3](#fig:plant:phase_population).\n",
    "\n",
    "This type of plot is called a *phase diagram*.\n",
    "To see if a set of parameters $g$ and $w$ gives an increase or a decrease in the population, find the point in the plot that corresponds to these values, and check if the color is green or white.\n",
    "If the point is green, using that germination rate and survival rate in our\n",
    "models gives us an increase in the final population,\n",
    "and we get exponential growth.\n",
    "If the point is white, the final population is smaller than the initial\n",
    "population and we get an exponential decay.\n",
    "\n",
    "For example, if we have a survival rate $w=0.4$ and a germination rate $g=0.8$\n",
    "we have a green point, and the final plant population is greater than the\n",
    "initial population.\n",
    "Using phase diagrams is a very efficient way of\n",
    "examining a model, and learn more on how the model behaves.\n",
    "\n",
    "<!-- dom:FIGURE: [figures-plant_growth/phase_diagram_population.png, width=800 frac=1] Effect of different survival and germination rates on the final population size. Green regions are where the parameter combination $g$, $w$, and $S=50$ leads to exponential growth, while white regions are where the population decreases over successive generations.  <div id=\"fig:plant:phase_population\"></div> -->\n",
    "<!-- begin figure -->\n",
    "<div id=\"fig:plant:phase_population\"></div>\n",
    "\n",
    "<img src=\"figures-plant_growth/phase_diagram_population.png\" width=800>\n",
    "<p style='font-size: 0.9em'><i>Figure 3: Effect of different survival and germination rates on the final population size. Green regions are where the parameter combination $g$, $w$, and $S=50$ leads to exponential growth, while white regions are where the population decreases over successive generations.</i></p>\n",
    "\n",
    "<!-- end figure -->\n",
    "\n",
    "\n",
    "Alternatively, we can predict an increase or decrease by calculating $gwS$:\n",
    "\n",
    "* If $gwS > 1$, the plant population *increases* over successive generations.\n",
    "\n",
    "* If $gwS = 1$, the plant population *does not change*.\n",
    "\n",
    "* If $gwS < 1$, the plant population *decreases* over successive generations.\n",
    "\n",
    "Examples of these three scenarios are illustrated in [Figure 4](#fig:plant:exp_growth_decay).\n",
    "In the first case with $gwS=2$, the population doubles in every generation,\n",
    "while with $gwS=0.5$ the population is reduced by $50\\%$ in every generation.\n",
    "When $gwS=1$, the population neither increases or decreases.\n",
    "\n",
    "\n",
    "<!-- dom:FIGURE: [figures-plant_growth/exp_growth_decay.png, frac=0.7] Different scenarios for annual plant population growth based on the magnitude of the product of seeds per plant ($S$), survival rate ($w$), and germination rate ($g$). <div id=\"fig:plant:exp_growth_decay\"></div> -->\n",
    "<!-- begin figure -->\n",
    "<div id=\"fig:plant:exp_growth_decay\"></div>\n",
    "\n",
    "<img src=\"figures-plant_growth/exp_growth_decay.png\" >\n",
    "<p style='font-size: 0.9em'><i>Figure 4: Different scenarios for annual plant population growth based on the magnitude of the product of seeds per plant ($S$), survival rate ($w$), and germination rate ($g$).</i></p>\n",
    "\n",
    "<!-- end figure -->\n",
    "\n",
    "\n",
    "<!-- figsource Milad -->\n",
    "\n",
    "\n",
    "## 1.6 Estimating model parameters\n",
    "<div id=\"sec:plant:estimation\"></div>\n",
    "\n",
    "By doing experiments, we can measure the actual number of seeds each\n",
    "plant produces $S$, the winter survival rate $w$,\n",
    "and the germination rate $g$ for a certain environment.\n",
    "These experiments are quite simple, they just take some time to perform.\n",
    "Here, we outline the calculations and measurements you have to perform to\n",
    "experimentally find the parameters.\n",
    "\n",
    "### 1.6.1 Seeds per plant\n",
    "\n",
    "We measure $S$ by counting the total\n",
    "number of seeds and divide by the number of plants:"
   ]
  },
  {
   "cell_type": "markdown",
   "metadata": {
    "editable": false
   },
   "source": [
    "<!-- Equation labels as ordinary links -->\n",
    "<div id=\"_auto13\"></div>\n",
    "\n",
    "$$\n",
    "\\begin{equation}\n",
    "S = \\frac{\\text{number of seeds produced}}{\\text{number of plants}}.\n",
    "\\label{_auto13} \\tag{14}\n",
    "\\end{equation}\n",
    "$$"
   ]
  },
  {
   "cell_type": "markdown",
   "metadata": {
    "editable": false
   },
   "source": [
    "### 1.6.2 Germination rate\n",
    "\n",
    "To measure $g$, we plant a number of seeds in the spring and\n",
    "count the number of plants that germinate:"
   ]
  },
  {
   "cell_type": "markdown",
   "metadata": {
    "editable": false
   },
   "source": [
    "<!-- Equation labels as ordinary links -->\n",
    "<div id=\"_auto14\"></div>\n",
    "\n",
    "$$\n",
    "\\begin{equation}\n",
    "g = \\frac{\\text{number of seeds that germinated}}{\\text{number of seeds planted in the spring}}.\n",
    "\\label{_auto14} \\tag{15}\n",
    "\\end{equation}\n",
    "$$"
   ]
  },
  {
   "cell_type": "markdown",
   "metadata": {
    "editable": false
   },
   "source": [
    "### 1.6.3 Survival rate\n",
    "\n",
    "To measure $w$,\n",
    "we plant a number of seeds before the winter starts and measure the number of\n",
    "plants that germinate.\n",
    "This fraction corresponds to plants that both survived the winter and\n",
    "germinated, and is therefore equal to the product of the survival rate $w$ and\n",
    "the germination rate $g$:"
   ]
  },
  {
   "cell_type": "markdown",
   "metadata": {
    "editable": false
   },
   "source": [
    "<!-- Equation labels as ordinary links -->\n",
    "<div id=\"_auto15\"></div>\n",
    "\n",
    "$$\n",
    "\\begin{equation}\n",
    "wg = \\frac{\\text{number of seeds that germinated}}{\\text{number of seeds planted before winter}}.\n",
    "\\label{_auto15} \\tag{16}\n",
    "\\end{equation}\n",
    "$$"
   ]
  },
  {
   "cell_type": "markdown",
   "metadata": {
    "editable": false
   },
   "source": [
    "<!--  -->\n",
    "When we know the germination rate we calculate the winter survival rate:\n",
    "<!--  -->"
   ]
  },
  {
   "cell_type": "markdown",
   "metadata": {
    "editable": false
   },
   "source": [
    "<!-- Equation labels as ordinary links -->\n",
    "<div id=\"_auto16\"></div>\n",
    "\n",
    "$$\n",
    "\\begin{equation}\n",
    "w = \\frac{\\text{number of seeds that germinated}}{g \\times\\text{number of seeds planted before winter}}.\n",
    "\\label{_auto16} \\tag{17}\n",
    "\\end{equation}\n",
    "$$"
   ]
  },
  {
   "cell_type": "markdown",
   "metadata": {
    "editable": false
   },
   "source": [
    "<!--  -->\n",
    "\n",
    "# 2 Variable germination rate\n",
    "\n",
    "<div id=\"sec:plant_growth:winter\"></div>\n",
    "\n",
    "We have so far assumed that the fraction of seeds that germinate each year and\n",
    "survive each winter is constant.\n",
    "However, some years are harder on the seeds than others.\n",
    "Factors that can keep the seeds from germinating include drought and high\n",
    "temperature, cold springs, extremely wet environments,\n",
    "lack of sunlight, and lack of oxygen.\n",
    "In this chapter, we extend our model to include such effects by including a\n",
    "varying germination rate.\n",
    "Our model assumptions are then:\n",
    "\n",
    "\n",
    "\n",
    "\n",
    "<hr/>\n",
    "**Model assumptions in the one-year model with variable germination rate.**\n",
    "\n",
    "We assume that:\n",
    "* all plants are identical,\n",
    "\n",
    "* seeds can only survive one winter, and\n",
    "\n",
    "* the fraction of seeds that survive a winter is constant.\n",
    "<hr/>\n",
    "\n",
    "\n",
    "\n",
    "\n",
    "\n",
    "We use an array with $N$ items to store the germination rate for each year.\n",
    "The germination rate for a given year can then be picked from this array with\n",
    "`g[n]` when we calculate the number of pea plants.\n",
    "In the first version of our program, we use the same value for each year as we\n",
    "used in the previous section.\n",
    "We do this to verify that we get the same result and do not introduce any bugs by\n",
    "using an array instead of a constant value:\n",
    "\n",
    "<!--  -->"
   ]
  },
  {
   "cell_type": "code",
   "execution_count": null,
   "metadata": {},
   "outputs": [],
   "source": [
    "from pylab import *\n",
    "\n",
    "N = 10\n",
    "S = 50\n",
    "w = 0.25\n",
    "g = array([0.16, 0.16, 0.16, 0.16, 0.16, 0.16, 0.16, 0.16, 0.16, 0.16])           # New\n",
    "P = zeros(N)\n",
    "P[0] = 20\n",
    "\n",
    "for n in range(1, N):\n",
    "    produced_seeds = S * P[n-1]\n",
    "    surviving_seeds = w * produced_seeds\n",
    "    P[n] = g[n] * surviving_seeds\n",
    "\n",
    "print(P)"
   ]
  },
  {
   "cell_type": "markdown",
   "metadata": {
    "editable": false
   },
   "source": [
    "<!--  -->\n",
    "This produces the same result as before, and we most likely did not introduce any\n",
    "errors in our code by using an array.\n",
    "\n",
    "What would happen if the plants experienced a lack of sunlight in year 3?\n",
    "Let us assume that it causes the germination rate to fall to $2 \\%$\n",
    "and plot the result:\n",
    "<!--  -->"
   ]
  },
  {
   "cell_type": "code",
   "execution_count": null,
   "metadata": {},
   "outputs": [],
   "source": [
    "g = array([0.16, 0.16, 0.16, 0.02, 0.16, 0.16, 0.16, 0.16, 0.16, 0.16])           # New\n",
    "#                             ^ Changed\n",
    "\n",
    "for n in range(1, N):\n",
    "    produced_seeds = S * P[n-1]\n",
    "    surviving_seeds = w * produced_seeds\n",
    "    P[n] = g[n] * surviving_seeds\n",
    "\n",
    "plot(t, P, \"-o\")\n",
    "xlabel(\"Generations, t\")\n",
    "ylabel(\"Number of pea plants, P\")\n",
    "title(\"Plant population, reduced sunlight\")\n",
    "show()"
   ]
  },
  {
   "cell_type": "markdown",
   "metadata": {
    "editable": false
   },
   "source": [
    "<div id=\"fig:plant:annual_plant_growth_winter_varying\"></div> *Figure: Pea plant growth with one year of reduced sunlight.*\n",
    "\n",
    "The figure above shows that this one rough year with little sunlight sets back\n",
    "the number of pea plants almost to the initial number of plants,\n",
    "and the exponential growth starts over from this value.\n",
    "Within the 10 years we simulate,\n",
    "one such setback reduces the final number from around 10,000 plants to just over\n",
    "1,200 plants.\n",
    "This illustrates that even one bad summer can have a long-lasting effect on\n",
    "the pea population.\n",
    "\n",
    "What about many years of drought, taking us from normal germination rate all the\n",
    "way down to zero in year 5 and then slowly recovering back to normal germination\n",
    "rate?\n",
    "Let us write an array of germination rates going from 0.16,\n",
    "all the way down to zero and back up to 0.16,\n",
    "and see how the plant population develops:"
   ]
  },
  {
   "cell_type": "code",
   "execution_count": null,
   "metadata": {},
   "outputs": [],
   "source": [
    "g = array([0.16, 0.14, 0.10, 0.07, 0.02, 0.0, 0.08, 0.12, 0.15, 0.16])           # New\n",
    "\n",
    "for n in range(1, N):\n",
    "    produced_seeds = S * P[n-1]\n",
    "    surviving_seeds = w * produced_seeds\n",
    "    P[n] = g[n] * surviving_seeds\n",
    "\n",
    "plot(t, P, \"-o\")\n",
    "xlabel(\"Generations, t\")\n",
    "ylabel(\"Number of pea plants, P\")\n",
    "title(\"Plant population during a drought\")\n",
    "show()"
   ]
  },
  {
   "cell_type": "markdown",
   "metadata": {
    "editable": false
   },
   "source": [
    "The plant population initially grows before the drought increases in severity and\n",
    "starts reducing the number of plants year by year.\n",
    "Eventually, no seeds germinate in the year with zero germination rate,\n",
    "which kills the entire population and results in no plants in the following\n",
    "years.\n",
    "\n",
    "Models like this can make predictions about the number of pea plants that will\n",
    "grow in the coming years, but it requires that we know the germination rate for\n",
    "each year.\n",
    "This, in turn, means we need to predict the severity of the coming winters and\n",
    "possible droughts, and that is the hard problem of weather forecasting which\n",
    "meteorologists are trying to solve.\n",
    "\n",
    "A model is only as good as the assumptions we put into it,\n",
    "but it can still be useful.\n",
    "Even though we cannot reliably predict exactly how many pea plants we will have\n",
    "in ten years, we can collect data on germination rates from previous years and\n",
    "make an estimate for the coming years.\n",
    "We can, for instance, answer questions like:\n",
    "\"How many pea plants can we expect if we have multiple years of wet summers?\"\n",
    "The answer can be used to prepare ourselves for different\n",
    "scenarios that might play out.\n",
    "\n",
    "To improve our model, we should also consider other variables that may be\n",
    "varying from year to year.\n",
    "For instance, we still assume the winter survival rates are constant over time.\n",
    "The severity of winters vary, and we could implement varying survival rates in\n",
    "our model similarly to how we implemented the varying germination rate above."
   ]
  },
  {
   "cell_type": "markdown",
   "metadata": {},
   "source": [
    "# End of material for week 5\n",
    "<div class=\"alert alert-danger\">The rest of the chapter is material for week 6 of the course.</div>"
   ]
  },
  {
   "cell_type": "markdown",
   "metadata": {
    "editable": false
   },
   "source": [
    "# 3 Two-year model for plant population growth\n",
    "\n",
    "In previous section, we created a simple model for the growth of pea plants.\n",
    "We assumed that no seeds survived more than a year,\n",
    "but in reality, seeds can survive for many years.\n",
    "This is a survival strategy that can keep the population alive through long\n",
    "periods of drought, such as the one which killed our entire plant population in the\n",
    "previous section.\n",
    "\n",
    "In this section, we expand the model to include seeds that survive two years.\n",
    "We call this new model for \"the two-year model\".\n",
    "We test this model with a constant germination rate,\n",
    "before we introduce the same drought as modeled in the previous section.\n",
    "Let us investigate if we can keep the plant population alive by introducing seeds that\n",
    "survive two years.\n",
    "\n",
    "\n",
    "The following are the assumptions in this model:\n",
    "\n",
    "\n",
    "\n",
    "\n",
    "<hr/>\n",
    "**Model assumptions in the two-year model.**\n",
    "\n",
    "We assume that:\n",
    "* all plants are identical,\n",
    "\n",
    "* seeds can survive two winters, and\n",
    "\n",
    "* the fraction of seeds that survive a winter is constant.\n",
    "<hr/>\n",
    "\n",
    "\n",
    "\n",
    "\n",
    "The symbols used in this model are shown in the the following table:\n",
    "\n",
    "<table border=\"1\">\n",
    "<thead>\n",
    "<tr><th align=\"center\">Symbol</th> <th align=\"center\">                Description                 </th> </tr>\n",
    "</thead>\n",
    "<tbody>\n",
    "<tr><td align=\"left\">   $n$       </td> <td align=\"left\">   Generation/year                                 </td> </tr>\n",
    "<tr><td align=\"left\">   $N$       </td> <td align=\"left\">   Number of generations/years                     </td> </tr>\n",
    "<tr><td align=\"left\">   $P_n$     </td> <td align=\"left\">   Number of pea plants in year $n$                </td> </tr>\n",
    "<tr><td align=\"left\">   $w$       </td> <td align=\"left\">   Fraction of seeds that survive the winter       </td> </tr>\n",
    "<tr><td align=\"left\">   $g_n$     </td> <td align=\"left\">   Fraction of seeds that germinate in year $n$    </td> </tr>\n",
    "<tr><td align=\"left\">   $S$       </td> <td align=\"left\">   Number of seeds each pea plant produces         </td> </tr>\n",
    "</tbody>\n",
    "</table>\n",
    "## 3.1 Adding two-year-old seeds to the model\n",
    "\n",
    "\n",
    "\n",
    "Let us begin by defining the variables from the previous section:\n",
    "<!--  -->"
   ]
  },
  {
   "cell_type": "code",
   "execution_count": null,
   "metadata": {
    "collapsed": true
   },
   "outputs": [],
   "source": [
    "from pylab import *\n",
    "\n",
    "N = 10\n",
    "S = 50\n",
    "w = 0.25\n",
    "g = array([0.16, 0.16, 0.16, 0.16, 0.16, 0.16, 0.16, 0.16, 0.16, 0.16])\n",
    "\n",
    "P = zeros(N)\n",
    "P[0] = 20"
   ]
  },
  {
   "cell_type": "markdown",
   "metadata": {
    "editable": false
   },
   "source": [
    "<!--  -->\n",
    "When seeds can survive for two years $P_n$ becomes the number of pea\n",
    "plants that germinate from one-year-old seeds,\n",
    "$P_{n, \\text{ one-year-old}}$, plus the number of pea plants that germinate\n",
    "from two-year-old seeds, $P_{n, \\text{ two-year-old}}$:"
   ]
  },
  {
   "cell_type": "markdown",
   "metadata": {
    "editable": false
   },
   "source": [
    "<!-- Equation labels as ordinary links -->\n",
    "<div id=\"eq:plant_growth:both\"></div>\n",
    "\n",
    "$$\n",
    "\\begin{equation}\n",
    "\\label{eq:plant_growth:both} \\tag{18}\n",
    "P_{n} = P_{n, \\text{ one-year-old}} + P_{n, \\text{ two-year-old}}.\n",
    "\\end{equation}\n",
    "$$"
   ]
  },
  {
   "cell_type": "markdown",
   "metadata": {
    "editable": false
   },
   "source": [
    "<!--  -->\n",
    "\n",
    "<!-- dom:FIGURE: [figures-plant_growth/seeds_surviving_two_years_a.png, frac=1] The contribution from one-year-old seeds is the same as in the previous sections. This is the same process as in [figure 2](#fig:plant:seeds_surviving), but specified from year 1 to year 2. <div id=\"fig:plant:seeds_surviving2_a\"></div> -->\n",
    "<!-- begin figure -->\n",
    "<div id=\"fig:plant:seeds_surviving2_a\"></div>\n",
    "\n",
    "<img src=\"figures-plant_growth/seeds_surviving_two_years_a.png\" >\n",
    "<p style='font-size: 0.9em'><i>Figure 5: The contribution from one-year-old seeds is the same as in the previous sections. This is the same process as in [figure 2](#fig:plant:seeds_surviving), but specified from year 1 to year 2.</i></p>\n",
    "\n",
    "<!-- end figure -->\n",
    "\n",
    "\n",
    "\n",
    "\n",
    "We build up the `for` loop piece by piece to introduce the two contributions.\n",
    "The contribution from one-year-old seeds is calculated the same way as  in the\n",
    "previous sections.\n",
    "[Figure 5](#fig:plant:seeds_surviving2_a) shows this for year 1 to year 2.\n",
    "This time we store the number of pea plants from one-year-old seeds in a\n",
    "variable called `plants_1_year`.\n",
    "We add this variable to `P[n]`, and add a comment that we will include\n",
    "`plants_2_year` later.\n",
    "This comment starts with `TODO`, which is a common way to indicate to both\n",
    "yourself and others that changes are going to be made in the code later."
   ]
  },
  {
   "cell_type": "code",
   "execution_count": null,
   "metadata": {},
   "outputs": [],
   "source": [
    "for n in range(1, N):\n",
    "    produced_seeds = S * P[n-1]\n",
    "    surviving_seeds = w * produced_seeds\n",
    "    plants_1_year = g[n] * surviving_seeds\n",
    "\n",
    "    P[n] = plants_1_year                                # TODO: add plants_2_year\n",
    "\n",
    "print(P)"
   ]
  },
  {
   "cell_type": "markdown",
   "metadata": {
    "editable": false
   },
   "source": [
    "<!--  -->\n",
    "\n",
    "To find the contribution from the two-year-old seeds, we need to know the number\n",
    "of one-year-old seeds that did not germinate and\n",
    "remained in the ground.\n",
    "We therefore want to store the number of seeds that remained in the ground in an array\n",
    "called `remaining_seeds`:\n",
    "<!--  -->"
   ]
  },
  {
   "cell_type": "code",
   "execution_count": null,
   "metadata": {
    "collapsed": true
   },
   "outputs": [],
   "source": [
    "remaining_seeds = zeros(N)"
   ]
  },
  {
   "cell_type": "markdown",
   "metadata": {
    "editable": false
   },
   "source": [
    "<!--  -->\n",
    "The number of one-year-old seeds that did not germinate is:\n",
    "<!--  -->"
   ]
  },
  {
   "cell_type": "markdown",
   "metadata": {
    "editable": false
   },
   "source": [
    "<!-- Equation labels as ordinary links -->\n",
    "<div id=\"_auto17\"></div>\n",
    "\n",
    "$$\n",
    "\\begin{equation}\n",
    "    \\text{remaining seeds} = (1 - g_n) \\times \\text{surviving seeds}.\n",
    "\\label{_auto17} \\tag{19}\n",
    "\\end{equation}\n",
    "$$"
   ]
  },
  {
   "cell_type": "markdown",
   "metadata": {
    "editable": false
   },
   "source": [
    "<!--  -->\n",
    "We store the result in the `remaining_seeds` array.\n",
    "Finally, we print it to check the result:\n",
    "<!--  -->"
   ]
  },
  {
   "cell_type": "code",
   "execution_count": null,
   "metadata": {},
   "outputs": [],
   "source": [
    "for n in range(1, N):\n",
    "    produced_seeds = S * P[n-1]\n",
    "    surviving_seeds = w * produced_seeds\n",
    "    plants_1_year = g[n] * surviving_seeds\n",
    "\n",
    "    remaining_seeds[n] = (1 - g[n]) * surviving_seeds     # New\n",
    "\n",
    "    P[n] = plants_1_year                                  # TODO: add plants_2_year\n",
    "\n",
    "print(remaining_seeds)"
   ]
  },
  {
   "cell_type": "markdown",
   "metadata": {
    "editable": false
   },
   "source": [
    "<!--  -->\n",
    "We now use `remaining_seeds` to calculate the number of plants that\n",
    "germinate from these seeds.\n",
    "Of these seeds, only a fraction $w$ are able to survive the second winter,\n",
    "as shown in [Figure 6](#fig:plant:seeds_surviving2_b).\n",
    "\n",
    "<!-- dom:FIGURE: [figures-plant_growth/seeds_surviving_two_years_b.png, frac=0.9] Only a fraction of the two-year-old seeds survive the second winter and are able to germinate. This gives us the number of plants produced from two-year-old seeds. <div id=\"fig:plant:seeds_surviving2_b\"></div> -->\n",
    "<!-- begin figure -->\n",
    "<div id=\"fig:plant:seeds_surviving2_b\"></div>\n",
    "\n",
    "<img src=\"figures-plant_growth/seeds_surviving_two_years_b.png\" >\n",
    "<p style='font-size: 0.9em'><i>Figure 6: Only a fraction of the two-year-old seeds survive the second winter and are able to germinate. This gives us the number of plants produced from two-year-old seeds.</i></p>\n",
    "\n",
    "<!-- end figure -->\n",
    "\n",
    "\n",
    "The number of seeds we are left with after the second winter is\n",
    "<!--  -->"
   ]
  },
  {
   "cell_type": "markdown",
   "metadata": {
    "editable": false
   },
   "source": [
    "<!-- Equation labels as ordinary links -->\n",
    "<div id=\"_auto18\"></div>\n",
    "\n",
    "$$\n",
    "\\begin{equation}\n",
    "    \\text{seeds after the second winter}\n",
    "        = w \\times \\text{remaining seeds}.\n",
    "\\label{_auto18} \\tag{20}\n",
    "\\end{equation}\n",
    "$$"
   ]
  },
  {
   "cell_type": "markdown",
   "metadata": {
    "editable": false
   },
   "source": [
    "<!--  -->\n",
    "Then spring comes around again and a fraction $g_n$ of these seeds germinate to\n",
    "become the pea plants from two-year-old seeds,\n",
    "$P_{n, \\text{two-year-old}}$, shown in [Figure 6](#fig:plant:seeds_surviving2_b).\n",
    "<!--  -->"
   ]
  },
  {
   "cell_type": "markdown",
   "metadata": {
    "editable": false
   },
   "source": [
    "<!-- Equation labels as ordinary links -->\n",
    "<div id=\"eq:plant_growth:second\"></div>\n",
    "\n",
    "$$\n",
    "\\begin{equation}\n",
    "\\label{eq:plant_growth:second} \\tag{21}\n",
    "    P_{n, \\text{ two-year-old}}\n",
    "        = g_n \\times \\text{surviving seeds after second winter}.\n",
    "\\end{equation}\n",
    "$$"
   ]
  },
  {
   "cell_type": "markdown",
   "metadata": {
    "editable": false
   },
   "source": [
    "<!--  -->\n",
    "This term needs to be added to the number of plants from one-year-old seeds.\n",
    "We show this in [Figure 7](#fig:plant:seeds_surviving2_c), where we sum the number of\n",
    "plants from one- and two-year-old seeds to find $P_2$.\n",
    "Note that this figure only shows the first three years.\n",
    "Every following year is similar to year 2,\n",
    "because seeds only survive for two years.\n",
    "If we included even older seeds, this figure would have to be expanded.\n",
    "\n",
    "<!-- dom:FIGURE: [figures-plant_growth/seeds_surviving_two_years_c.png, frac=0.9] The complete two-year model shown from year 0 to year 2. The later years are similar to year 2 in that they get a contribution from both one- and two-year-old seeds. <div id=\"fig:plant:seeds_surviving2_c\"></div> -->\n",
    "<!-- begin figure -->\n",
    "<div id=\"fig:plant:seeds_surviving2_c\"></div>\n",
    "\n",
    "<img src=\"figures-plant_growth/seeds_surviving_two_years_c.png\" >\n",
    "<p style='font-size: 0.9em'><i>Figure 7: The complete two-year model shown from year 0 to year 2. The later years are similar to year 2 in that they get a contribution from both one- and two-year-old seeds.</i></p>\n",
    "\n",
    "<!-- end figure -->\n",
    "\n",
    "\n",
    "\n",
    "We implement these calculations and plot the result in the following code:\n",
    "<!--  -->"
   ]
  },
  {
   "cell_type": "code",
   "execution_count": null,
   "metadata": {},
   "outputs": [],
   "source": [
    "for n in range(1, N):\n",
    "    produced_seeds = S * P[n-1]\n",
    "    surviving_seeds = w * produced_seeds\n",
    "    plants_1_year = g[n] * surviving_seeds\n",
    "\n",
    "    remaining_seeds[n] = (1 - g[n]) * surviving_seeds\n",
    "\n",
    "    surviving_seeds_2_year = w * remaining_seeds[n-1]                   # New\n",
    "    plants_2_year = g[n] * surviving_seeds_2_year                       # New\n",
    "\n",
    "    P[n] = plants_1_year + plants_2_year                                # New\n",
    "\n",
    "plot(t, P, \"-o\")\n",
    "xlabel(\"Generation, t\")\n",
    "ylabel(\"Number of pea plants, P\")\n",
    "title(\"Plant population when seeds survive two winters\")\n",
    "show()"
   ]
  },
  {
   "cell_type": "markdown",
   "metadata": {
    "editable": false
   },
   "source": [
    "The above figure is similar to Figure [fig:plant:annual_plant_growth_simple](#fig:plant:annual_plant_growth_simple),\n",
    "where we had exponential growth in the one-year model.\n",
    "However, we see that we end up with a different number of plants,\n",
    "closer to 20,000 plants in comparison to about 10,000 plants in the one-year\n",
    "model.\n",
    "The effect is not surprising, as the seeds have an additional chance to germinate\n",
    "so we should expect to get more pea plants.\n",
    "More interesting things happen when we\n",
    "reintroduce the drought from the previous section.\n",
    "\n",
    "\n",
    "\n",
    "\n",
    "<hr/>\n",
    "**Summary: The two-year model.**\n",
    "\n",
    "<!--  -->\n",
    "For each generation, we calculate the number of pea plants as"
   ]
  },
  {
   "cell_type": "markdown",
   "metadata": {
    "editable": false
   },
   "source": [
    "<!-- Equation labels as ordinary links -->\n",
    "<div id=\"_auto19\"></div>\n",
    "\n",
    "$$\n",
    "\\begin{equation}\n",
    "P_{n} = P_{n, \\text{ one-year-old}} + P_{n, \\text{ two-year-old}},\n",
    "\\label{_auto19} \\tag{22}\n",
    "\\end{equation}\n",
    "$$"
   ]
  },
  {
   "cell_type": "markdown",
   "metadata": {
    "editable": false
   },
   "source": [
    "where the one-year-old seeds are found by using the one-year model.\n",
    "\n",
    "Further, we do the following:\n",
    "* find number of remaining seeds that did not germinate,"
   ]
  },
  {
   "cell_type": "markdown",
   "metadata": {
    "editable": false
   },
   "source": [
    "<!-- Equation labels as ordinary links -->\n",
    "<div id=\"_auto20\"></div>\n",
    "\n",
    "$$\n",
    "\\begin{equation}\n",
    "    \\text{remaining seeds} = (1 - g_n) \\times \\text{surviving seeds},\n",
    "\\label{_auto20} \\tag{23}\n",
    "\\end{equation}\n",
    "$$"
   ]
  },
  {
   "cell_type": "markdown",
   "metadata": {
    "editable": false
   },
   "source": [
    "* multiply the number of remaining seeds by the fraction of seeds that survive the second winter,"
   ]
  },
  {
   "cell_type": "markdown",
   "metadata": {
    "editable": false
   },
   "source": [
    "<!-- Equation labels as ordinary links -->\n",
    "<div id=\"_auto21\"></div>\n",
    "\n",
    "$$\n",
    "\\begin{equation}\n",
    "    \\text{seeds after the second winter}\n",
    "        = w \\times \\text{remaining seeds},\n",
    "\\label{_auto21} \\tag{24}\n",
    "\\end{equation}\n",
    "$$"
   ]
  },
  {
   "cell_type": "markdown",
   "metadata": {
    "editable": false
   },
   "source": [
    "* and multiply the number of seeds that survived the second winter with the fraction of seeds that germinate after two years,"
   ]
  },
  {
   "cell_type": "markdown",
   "metadata": {
    "editable": false
   },
   "source": [
    "<!-- Equation labels as ordinary links -->\n",
    "<div id=\"_auto22\"></div>\n",
    "\n",
    "$$\n",
    "\\begin{equation}\n",
    "    P_{n, \\text{ two-year-old}}\n",
    "        = g_n \\times \\text{surviving seeds after second winter}.\n",
    "\\label{_auto22} \\tag{25}\n",
    "\\end{equation}\n",
    "$$"
   ]
  },
  {
   "cell_type": "markdown",
   "metadata": {
    "editable": false
   },
   "source": [
    "The model parameters we use, are"
   ]
  },
  {
   "cell_type": "markdown",
   "metadata": {
    "editable": false
   },
   "source": [
    "$$\n",
    "\\begin{align*}\n",
    "    P_0 &= 20,\\\\ \n",
    "    g_n &= 0.16,\\\\ \n",
    "    w &= 0.25,\\\\ \n",
    "    S &= 50.\n",
    "\\end{align*}\n",
    "$$"
   ]
  },
  {
   "cell_type": "markdown",
   "metadata": {
    "editable": false
   },
   "source": [
    "<!--  -->\n",
    "<hr/>\n",
    "\n",
    "\n",
    "\n",
    "\n",
    "## 3.2 Variable germination in the two-year model\n",
    "\n",
    "The drought we added in the one-year model took us down to zero\n",
    "germination rate in year five.\n",
    "After the drought, the germination rate slowly improved,\n",
    "but in the one-year model this was too late, because the entire plant population\n",
    "was already dead.\n",
    "What happens if seeds can survive two years?\n",
    "\n",
    "We use the same germination rates as for the one-year model with drought, and\n",
    "plot the result:\n",
    "<!--  -->"
   ]
  },
  {
   "cell_type": "code",
   "execution_count": null,
   "metadata": {},
   "outputs": [],
   "source": [
    "g = array([0.16, 0.14, 0.10, 0.07, 0.02, 0.0, 0.08, 0.12, 0.15, 0.16])  # New\n",
    "\n",
    "for n in range(1, N):\n",
    "    produced_seeds = S * P[n-1]\n",
    "    surviving_seeds = w * produced_seeds\n",
    "    plants_1_year = g[n] * surviving_seeds\n",
    "\n",
    "    remaining_seeds[n] = (1 - g[n]) * surviving_seeds\n",
    "\n",
    "    surviving_seeds_2 = w * remaining_seeds[n-1]\n",
    "    plants_2_year = g[n] * surviving_seeds_2\n",
    "\n",
    "    P[n] = plants_1_year + plants_2_year\n",
    "\n",
    "plot(t, P, \"-o\")\n",
    "xlabel(\"Generation, t\")\n",
    "ylabel(\"Number of pea plants, P\")\n",
    "title(\"Plant population with drought and two-year-old seeds\")\n",
    "show()"
   ]
  },
  {
   "cell_type": "markdown",
   "metadata": {
    "editable": false
   },
   "source": [
    "<!--  -->\n",
    "This plot starts out similar to the results found in the one-year model,\n",
    "except with a slightly higher number of plants.\n",
    "However, the really interesting change occurs after the year with zero\n",
    "germination rate:\n",
    "the plants start to grow again, even though no seeds germinated in year five.\n",
    "\n",
    "## 3.3 Subplots: Showing two plots in the same figure\n",
    "\n",
    "We more easily see how the growth starts again by plotting the number of\n",
    "remaining seeds along with the number of plants in the same figure.\n",
    "This is done by calling `subplot()` before each plot.\n",
    "The `subplot()` function creates a table of plots. It takes three arguments:\n",
    "the number of rows, the number of columns, the current plot index.\n",
    "In our case, we plot two rows and one column,\n",
    "so we need to call `subplot(2, 1, 1)` for the first plot and\n",
    "`subplot(2, 1, 2)` for the second:"
   ]
  },
  {
   "cell_type": "code",
   "execution_count": null,
   "metadata": {},
   "outputs": [],
   "source": [
    "subplot(2, 1, 1)\n",
    "plot(t, P, \"-o\")\n",
    "xlabel(\"Generation, t\")\n",
    "ylabel(\"Number of pea plants, P\")\n",
    "\n",
    "subplot(2, 1, 2)\n",
    "plot(t, remaining_seeds, \"g-o\")\n",
    "xlabel(\"Generation, t\")\n",
    "ylabel(\"Remaining seeds\")\n",
    "\n",
    "show()"
   ]
  },
  {
   "cell_type": "markdown",
   "metadata": {
    "editable": false
   },
   "source": [
    "In this figure we see both the population size and remaining seeds over time.\n",
    "\n",
    "* In year 5, we have the following situation:\n",
    "\n",
    "  * the germination rate is zero,\n",
    "\n",
    "  * thus the number of plants is zero, and so\n",
    "\n",
    "  * all the one-year-old seeds from year 4 remain.\n",
    "\n",
    "\n",
    "* In year 6:\n",
    "\n",
    "  * some of the now two-year-old seeds (from year 4) survive the winter and germinate to give rise to a new generation of plants, however\n",
    "\n",
    "  * since no plants were produced in year 5, there are zero one-year-old seeds, so the number of remaining seeds is zero.\n",
    "\n",
    "\n",
    "* Then in year 7:\n",
    "\n",
    "  * some one-year-old seeds (from year 6) survive the winter and germinate, but\n",
    "\n",
    "  * since there were zero remaining seeds in year 6, there are zero two-year-old seeds that can germinate.\n",
    "\n",
    "\n",
    "In the following years, we get a contribution from both one- and two-year-old\n",
    "seeds.\n",
    "With seeds that survive for more than one winter the pea plant population is\n",
    "able to survive the drought.\n",
    "\n",
    "Many plants have evolved seeds that can survive for\n",
    "several years to get more chances to germinate.\n",
    "In nature, seeds can survive for more than two years, in order to germinate when the conditions are\n",
    "sufficient.\n",
    "However, in our model we ignore seeds that survive for more than two years.\n",
    "\n",
    "Feel free to play around with the germination rates to see what happens if you\n",
    "have two consecutive years with zero germination.\n",
    "Will our plant population survive in this case or would we have to expand our\n",
    "model to include seeds that can survive for more than two years?\n",
    "In general, we can create a multi-year model by introducing a second `for` loop\n",
    "that goes over all previous years and tries to germinate any remaining seeds.\n",
    "This is a bit complicated, we therefore do not introduce such a model in this chapter.\n",
    "\n",
    "## 3.4 Expressing the two-year model as a difference equation\n",
    "\n",
    "\n",
    "\n",
    "As with the one-year model, we can also write the two-year model more compactly\n",
    "as a difference equation.\n",
    "First, $P_n$ can be written as\n",
    "<!--  -->"
   ]
  },
  {
   "cell_type": "markdown",
   "metadata": {
    "editable": false
   },
   "source": [
    "<!-- Equation labels as ordinary links -->\n",
    "<div id=\"eq:plant_growth:two_year_coupled_a\"></div>\n",
    "\n",
    "$$\n",
    "\\label{eq:plant_growth:two_year_coupled_a} \\tag{26}\n",
    "    P_{n} = P_{n, \\text{ one-year-old}} + P_{n, \\text{ two-year-old}} \\nonumber\n",
    "$$"
   ]
  },
  {
   "cell_type": "markdown",
   "metadata": {
    "editable": false
   },
   "source": [
    "<!-- Equation labels as ordinary links -->\n",
    "<div id=\"_auto23\"></div>\n",
    "\n",
    "$$\n",
    "\\begin{equation}  \n",
    "        = g_n w S P_{n-1} + g_n w R_{n-1},\n",
    "\\label{_auto23} \\tag{27}\n",
    "\\end{equation}\n",
    "$$"
   ]
  },
  {
   "cell_type": "markdown",
   "metadata": {
    "editable": false
   },
   "source": [
    "<!--  -->\n",
    "where $R_{n}$ is defined by the number of remaining seeds from the previous\n",
    "generation:\n",
    "<!--  -->"
   ]
  },
  {
   "cell_type": "markdown",
   "metadata": {
    "editable": false
   },
   "source": [
    "<!-- Equation labels as ordinary links -->\n",
    "<div id=\"eq:plant_growth:two_year_coupled_b\"></div>\n",
    "\n",
    "$$\n",
    "\\begin{equation}\n",
    "\\label{eq:plant_growth:two_year_coupled_b} \\tag{28}\n",
    "    R_n = (1 - g_n) w S P_{n-1}.\n",
    "\\end{equation}\n",
    "$$"
   ]
  },
  {
   "cell_type": "markdown",
   "metadata": {
    "editable": false
   },
   "source": [
    "<!--  -->\n",
    "\n",
    "You can follow the \"flow\" in [Figure 7](#fig:plant:seeds_surviving2_c) to see how\n",
    "we get the different terms.\n",
    "We now have two equations that define our model.\n",
    "Together they are known as a *system of coupled first-order difference\n",
    "equations*.\n",
    "They are \"coupled\" because they both depend on each other,\n",
    "and they are \"first-order\" because they depend only on the previous generation. Together they make a \"system\".\n",
    "\n",
    "We could go even further and write everything on one line by inserting Equation ([eq:plant_growth:two_year_coupled_b](#eq:plant_growth:two_year_coupled_b)) with $n-1$,\n",
    "<!--  -->"
   ]
  },
  {
   "cell_type": "markdown",
   "metadata": {
    "editable": false
   },
   "source": [
    "<!-- Equation labels as ordinary links -->\n",
    "<div id=\"_auto24\"></div>\n",
    "\n",
    "$$\n",
    "\\begin{equation}\n",
    "    R_{n-1} = (1 - g_{n-1}) w S P_{n-2},\n",
    "\\label{_auto24} \\tag{29}\n",
    "\\end{equation}\n",
    "$$"
   ]
  },
  {
   "cell_type": "markdown",
   "metadata": {
    "editable": false
   },
   "source": [
    "into Equation ([eq:plant_growth:two_year_coupled_a](#eq:plant_growth:two_year_coupled_a)):\n",
    "<!--  -->"
   ]
  },
  {
   "cell_type": "markdown",
   "metadata": {
    "editable": false
   },
   "source": [
    "<!-- Equation labels as ordinary links -->\n",
    "<div id=\"eq:plant_growth:two_year\"></div>\n",
    "\n",
    "$$\n",
    "\\begin{equation}\n",
    "\\label{eq:plant_growth:two_year} \\tag{30}\n",
    "    P_n = g_n w S P_{n-1} + g_n w (1 - g_{n-1}) w S P_{n-2}.\n",
    "\\end{equation}\n",
    "$$"
   ]
  },
  {
   "cell_type": "markdown",
   "metadata": {
    "editable": false
   },
   "source": [
    "<!--  -->\n",
    "This equation shows how $P_n$ is actually defined by the number of plants two\n",
    "generations ago, $P_{n-2}$, which is because seeds can survive two winters.\n",
    "This dependency makes it a *second-order difference equation*.\n",
    "The equation is no longer \"coupled\" or a \"system\",\n",
    "because it is only one equation.\n",
    "Each term in equation Equation ([eq:plant_growth:two_year](#eq:plant_growth:two_year)) is explained in [Figure 8](#fig:plant:equation).\n",
    "\n",
    "<!-- dom:FIGURE: [figures-plant_growth/equation.png, frac=0.8 width=600] Explanation of terms in Equation ([eq:plant_growth:two_year](#eq:plant_growth:two_year)). Adapted from [[2]](#edelstein).  <div id=\"fig:plant:equation\"></div> -->\n",
    "<!-- begin figure -->\n",
    "<div id=\"fig:plant:equation\"></div>\n",
    "\n",
    "<img src=\"figures-plant_growth/equation.png\" width=600>\n",
    "<p style='font-size: 0.9em'><i>Figure 8: Explanation of terms in Equation ([eq:plant_growth:two_year](#eq:plant_growth:two_year)). Adapted from [[2]](#edelstein).</i></p>\n",
    "\n",
    "<!-- end figure -->\n",
    "\n",
    "\n",
    "# 4 Summary\n",
    "In this chapter, we modeled the growth of pea plants.\n",
    "We started out with a simple model and extended it to explore the effects of\n",
    "environmental factors.\n",
    "The first model included only one-year-old seeds.\n",
    "The model was expanded with a variable germination rate,\n",
    "where one year had zero germination.\n",
    "This resulted in the plant population dying.\n",
    "Then we expanded the model with two-year-old seeds.\n",
    "This gave the seeds a second chance to germinate the year after,\n",
    "which in turn kept the plant population alive because they could \"skip\" the\n",
    "year with zero germination rate.\n",
    "In each model, there is a set of variables that describe the environment.\n",
    "To model the pea plant population growth in a given environment,\n",
    "we need the specific values for these variables.\n",
    "By changing the values of the variables, we see their effect on the plant\n",
    "population growth.\n",
    "\n",
    "\n",
    "\n",
    "## 4.1 Mathematical symbols and their corresponding variable names\n",
    "\n",
    "The different symbols we have used in this chapter are in the table below:\n",
    "\n",
    "<table border=\"1\">\n",
    "<thead>\n",
    "<tr><th align=\"center\">Symbol</th> <th align=\"center\">Variable</th> <th align=\"center\">                         Meaning                         </th> </tr>\n",
    "</thead>\n",
    "<tbody>\n",
    "<tr><td align=\"left\">   $n$       </td> <td align=\"left\">   <code>n</code>         </td> <td align=\"left\">   Generation/year                                              </td> </tr>\n",
    "<tr><td align=\"left\">   $N$       </td> <td align=\"left\">   <code>N</code>         </td> <td align=\"left\">   Number of time steps                                         </td> </tr>\n",
    "<tr><td align=\"left\">   $P$       </td> <td align=\"left\">   <code>P</code>         </td> <td align=\"left\">   Number of pea plants                                         </td> </tr>\n",
    "<tr><td align=\"left\">   $P_n$     </td> <td align=\"left\">   <code>P[n]</code>      </td> <td align=\"left\">   Number of pea plants in year $n$                             </td> </tr>\n",
    "<tr><td align=\"left\">   $P_0$     </td> <td align=\"left\">   <code>P[0]</code>      </td> <td align=\"left\">   Initial condition                                            </td> </tr>\n",
    "<tr><td align=\"left\">   $w$       </td> <td align=\"left\">   <code>w</code>         </td> <td align=\"left\">   Fraction of seeds that survive the winter (survival rate)    </td> </tr>\n",
    "<tr><td align=\"left\">   $g$       </td> <td align=\"left\">   <code>g</code>         </td> <td align=\"left\">   Fraction of seeds that germinate (germination rate)          </td> </tr>\n",
    "<tr><td align=\"left\">   $S$       </td> <td align=\"left\">   <code>S</code>         </td> <td align=\"left\">   Number of seeds each pea plant produces                      </td> </tr>\n",
    "</tbody>\n",
    "</table>\n",
    "## 4.2 One-year model of annual plant population growth\n",
    "\n",
    "### 4.2.1 Assumptions\n",
    "\n",
    "We assume that:\n",
    "* all plants are identical,\n",
    "\n",
    "* seeds can only survive one winter,\n",
    "\n",
    "* the fraction of seeds that survive a winter is constant, and\n",
    "\n",
    "* the fraction of seeds that germinate is constant.\n",
    "\n",
    "### 4.2.2 The one-year model\n",
    "\n",
    "For each generation, we calculate the number of pea plants by:\n",
    "* multiplying the number of plants from last year, $P_{n-1}$, by the number of seeds per plant,"
   ]
  },
  {
   "cell_type": "markdown",
   "metadata": {
    "editable": false
   },
   "source": [
    "<!-- Equation labels as ordinary links -->\n",
    "<div id=\"_auto25\"></div>\n",
    "\n",
    "$$\n",
    "\\begin{equation}\n",
    "    \\text{produced seeds} = S P_{n-1},\n",
    "\\label{_auto25} \\tag{31}\n",
    "\\end{equation}\n",
    "$$"
   ]
  },
  {
   "cell_type": "markdown",
   "metadata": {
    "editable": false
   },
   "source": [
    "* multiplying the number of produced seeds by the fraction of seeds that survive the winter,"
   ]
  },
  {
   "cell_type": "markdown",
   "metadata": {
    "editable": false
   },
   "source": [
    "<!-- Equation labels as ordinary links -->\n",
    "<div id=\"_auto26\"></div>\n",
    "\n",
    "$$\n",
    "\\begin{equation}\n",
    "    \\text{surviving seeds} = w \\times \\text{produced seeds},\n",
    "\\label{_auto26} \\tag{32}\n",
    "\\end{equation}\n",
    "$$"
   ]
  },
  {
   "cell_type": "markdown",
   "metadata": {
    "editable": false
   },
   "source": [
    "* and multiplying the number of surviving seeds by the fraction of seeds that germinate,"
   ]
  },
  {
   "cell_type": "markdown",
   "metadata": {
    "editable": false
   },
   "source": [
    "<!-- Equation labels as ordinary links -->\n",
    "<div id=\"_auto27\"></div>\n",
    "\n",
    "$$\n",
    "\\begin{equation}\n",
    "P_n = g \\times \\text{surviving seeds}.\n",
    "\\label{_auto27} \\tag{33}\n",
    "\\end{equation}\n",
    "$$"
   ]
  },
  {
   "cell_type": "markdown",
   "metadata": {
    "editable": false
   },
   "source": [
    "### 4.2.3 Implementation of the one-year model\n",
    "\n",
    "The core loop of this model is:"
   ]
  },
  {
   "cell_type": "markdown",
   "metadata": {
    "editable": false
   },
   "source": [
    "```Python\n",
    "        for n in range(1, N):\n",
    "            produced_seeds = S * P[n-1]\n",
    "            surviving_seeds = w * produced_seeds\n",
    "            P[n] = g * surviving_seeds\n",
    "```"
   ]
  },
  {
   "cell_type": "markdown",
   "metadata": {
    "editable": false
   },
   "source": [
    "### 4.2.4 Equation describing the one-year model"
   ]
  },
  {
   "cell_type": "markdown",
   "metadata": {
    "editable": false
   },
   "source": [
    "<!-- Equation labels as ordinary links -->\n",
    "<div id=\"_auto28\"></div>\n",
    "\n",
    "$$\n",
    "\\begin{equation}\n",
    "    P_n = gwSP_{n-1}.\n",
    "\\label{_auto28} \\tag{34}\n",
    "\\end{equation}\n",
    "$$"
   ]
  },
  {
   "cell_type": "markdown",
   "metadata": {
    "editable": false
   },
   "source": [
    "## 4.3 Two-year Model of annual plant population growth\n",
    "\n",
    "### 4.3.1 Assumptions\n",
    "\n",
    "We assume that:\n",
    "* all plants are identical,\n",
    "\n",
    "* seeds can survive two winters, and\n",
    "\n",
    "* the fraction of seeds that survive a winter is constant.\n",
    "\n",
    "### 4.3.2 The two-year model\n",
    "\n",
    "For each generation, we calculate the number of pea plants as"
   ]
  },
  {
   "cell_type": "markdown",
   "metadata": {
    "editable": false
   },
   "source": [
    "<!-- Equation labels as ordinary links -->\n",
    "<div id=\"_auto29\"></div>\n",
    "\n",
    "$$\n",
    "\\begin{equation}\n",
    "P_{n} = P_{n, \\text{ one-year-old}} + P_{n, \\text{ two-year-old}},\n",
    "\\label{_auto29} \\tag{35}\n",
    "\\end{equation}\n",
    "$$"
   ]
  },
  {
   "cell_type": "markdown",
   "metadata": {
    "editable": false
   },
   "source": [
    "where the one-year-old seeds are found by using the one-year model.\n",
    "Further, we do the following:\n",
    "* find number of remaining seeds that did not germinate,"
   ]
  },
  {
   "cell_type": "markdown",
   "metadata": {
    "editable": false
   },
   "source": [
    "<!-- Equation labels as ordinary links -->\n",
    "<div id=\"_auto30\"></div>\n",
    "\n",
    "$$\n",
    "\\begin{equation}\n",
    "    \\text{remaining seeds} = (1 - g_n) \\times \\text{surviving seeds},\n",
    "\\label{_auto30} \\tag{36}\n",
    "\\end{equation}\n",
    "$$"
   ]
  },
  {
   "cell_type": "markdown",
   "metadata": {
    "editable": false
   },
   "source": [
    "* multiply the number of remaining seeds by the fraction of seeds that survive the second winter,"
   ]
  },
  {
   "cell_type": "markdown",
   "metadata": {
    "editable": false
   },
   "source": [
    "<!-- Equation labels as ordinary links -->\n",
    "<div id=\"_auto31\"></div>\n",
    "\n",
    "$$\n",
    "\\begin{equation}\n",
    "    \\text{seeds after the second winter}\n",
    "        = w \\times \\text{remaining seeds},\n",
    "\\label{_auto31} \\tag{37}\n",
    "\\end{equation}\n",
    "$$"
   ]
  },
  {
   "cell_type": "markdown",
   "metadata": {
    "editable": false
   },
   "source": [
    "* and multiply the number of seeds that survived the second winter with the fraction of seeds that germinate after two years,"
   ]
  },
  {
   "cell_type": "markdown",
   "metadata": {
    "editable": false
   },
   "source": [
    "<!-- Equation labels as ordinary links -->\n",
    "<div id=\"_auto32\"></div>\n",
    "\n",
    "$$\n",
    "\\begin{equation}\n",
    "    P_{n, \\text{ second year seeds}}\n",
    "        = g_n \\times \\text{surviving seeds after second winter}.\n",
    "\\label{_auto32} \\tag{38}\n",
    "\\end{equation}\n",
    "$$"
   ]
  },
  {
   "cell_type": "markdown",
   "metadata": {
    "editable": false
   },
   "source": [
    "### 4.3.3 Implementation of the two-year model\n",
    "\n",
    "The core loop of this model is:"
   ]
  },
  {
   "cell_type": "markdown",
   "metadata": {
    "editable": false
   },
   "source": [
    "```Python\n",
    "        for n in range(1, N):\n",
    "            produced_seeds = S * P[n-1]\n",
    "            surviving_seeds = w * produced_seeds\n",
    "            plants_1_year = g[n] * surviving_seeds\n",
    "        \n",
    "            remaining_seeds[n] = (1 - g[n]) * surviving_seeds\n",
    "        \n",
    "            surviving_seeds_2 = w * remaining_seeds[n-1]\n",
    "            plants_2_year = g[n] * surviving_seeds_2\n",
    "        \n",
    "            P[n] = plants_1_year + plants_2_year\n",
    "```"
   ]
  },
  {
   "cell_type": "markdown",
   "metadata": {
    "editable": false
   },
   "source": [
    "### 4.3.4 Equation describing the model\n",
    "\n",
    "We can describe the model using a system of coupled first-order difference\n",
    "equations,\n",
    "<!--  -->"
   ]
  },
  {
   "cell_type": "markdown",
   "metadata": {
    "editable": false
   },
   "source": [
    "<!-- Equation labels as ordinary links -->\n",
    "<div id=\"_auto33\"></div>\n",
    "\n",
    "$$\n",
    "\\begin{equation}\n",
    "    P_{n} = g_n w S P_{n-1} + g_n w R_{n-1}, \n",
    "\\label{_auto33} \\tag{39}\n",
    "\\end{equation}\n",
    "$$"
   ]
  },
  {
   "cell_type": "markdown",
   "metadata": {
    "editable": false
   },
   "source": [
    "<!-- Equation labels as ordinary links -->\n",
    "<div id=\"_auto34\"></div>\n",
    "\n",
    "$$\n",
    "\\begin{equation}  \n",
    "    R_n = (1 - g_n) w S P_{n-1},\n",
    "\\label{_auto34} \\tag{40}\n",
    "\\end{equation}\n",
    "$$"
   ]
  },
  {
   "cell_type": "markdown",
   "metadata": {
    "editable": false
   },
   "source": [
    "<!--  -->\n",
    "or as a second-order difference equation,\n",
    "<!--  -->"
   ]
  },
  {
   "cell_type": "markdown",
   "metadata": {
    "editable": false
   },
   "source": [
    "<!-- Equation labels as ordinary links -->\n",
    "<div id=\"_auto35\"></div>\n",
    "\n",
    "$$\n",
    "\\begin{equation}\n",
    "P_n = g_n w S P_{n-1} + g_n w (1 - g_{n-1}) w S P_{n-2}.\n",
    "\\label{_auto35} \\tag{41}\n",
    "\\end{equation}\n",
    "$$"
   ]
  },
  {
   "cell_type": "markdown",
   "metadata": {
    "editable": false
   },
   "source": [
    "## 4.4 Subplots\n",
    "\n",
    "Subplots are multiple plots in the same figure.\n",
    "We create them by calling `subplot()` before each plot.\n",
    "The `subplot()` command takes three arguments:\n",
    "the number of rows, the number of columns, and the current plot index.\n",
    "In our case, we plot two rows and one column,\n",
    "so we need to call `subplot(2, 1, 1)` for the first plot and `subplot(2,\n",
    "1, 2)` for the second."
   ]
  },
  {
   "cell_type": "markdown",
   "metadata": {
    "editable": false
   },
   "source": [
    "```Python\n",
    "        subplot(2, 1, 1)\n",
    "        plot(t, P, \"-o\")\n",
    "        xlabel(\"Generation, t\")\n",
    "        ylabel(\"Number of pea plants, P\")\n",
    "        \n",
    "        subplot(2, 1, 2)\n",
    "        plot(t, remaining_seeds, \"g-o\")\n",
    "        xlabel(\"Generation, t\")\n",
    "        ylabel(\"Remaining seeds\")\n",
    "        \n",
    "        show()\n",
    "```"
   ]
  },
  {
   "cell_type": "markdown",
   "metadata": {
    "editable": false
   },
   "source": [
    "# 5 References\n",
    "\n",
    "\n",
    " 1. <div id=\"pea_plant\"></div> Pisum sativum pods.. \n",
    "    <https://commons.wikimedia.org/wiki/File:Doperwt_rijserwt_peulen_Pisum_sativum.jpg>.\n",
    "\n",
    " 2. <div id=\"edelstein\"></div> **L. E. Keshet**. \n",
    "    *The Theory of Linear Difference Equations Applied to Population Growth*,\n",
    "    Society for Industrial and Applied Mathematics,\n",
    "    2004."
   ]
  }
 ],
 "metadata": {
  "kernelspec": {
   "display_name": "Python 3",
   "language": "python",
   "name": "python3"
  },
  "language_info": {
   "codemirror_mode": {
    "name": "ipython",
    "version": 3
   },
   "file_extension": ".py",
   "mimetype": "text/x-python",
   "name": "python",
   "nbconvert_exporter": "python",
   "pygments_lexer": "ipython3",
   "version": "3.5.2"
  }
 },
 "nbformat": 4,
 "nbformat_minor": 2
}
